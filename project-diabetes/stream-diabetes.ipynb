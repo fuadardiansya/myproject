{
 "cells": [
  {
   "cell_type": "code",
   "execution_count": 1,
   "metadata": {},
   "outputs": [],
   "source": [
    "import pickle\n",
    "import streamlit as st"
   ]
  },
  {
   "cell_type": "code",
   "execution_count": 3,
   "metadata": {},
   "outputs": [],
   "source": [
    "#Membaca Model\n",
    "diabetes_model = pickle.load(open('diabetes_model.sav', 'rb'))"
   ]
  },
  {
   "cell_type": "code",
   "execution_count": 6,
   "metadata": {},
   "outputs": [],
   "source": [
    "#Judul Web\n",
    "st.title('Data Mining Prediksi Diabetes')\n",
    "\n",
    "#Membagi Kolom\n",
    "col1, col2 = st.columns(2)\n",
    "\n",
    "with col1:\n",
    "    Pregnancies = st.text_input ('Input Nilai Pregnancies')\n",
    "with col2:\n",
    "    Glucose = st.text_input ('Input Nilai Glucose')\n",
    "with col1:\n",
    "    BloodPressure = st.text_input ('Input Nilai Blood Pressure')\n",
    "with col2:\n",
    "    SkinThickness = st.text_input ('Input Nilai Skin Thickness')\n",
    "with col1:\n",
    "    Insulin = st.text_input ('Input Nilai Insulin')\n",
    "with col2:\n",
    "    BMI = st.text_input ('Input Nilai BMI')\n",
    "with col1:\n",
    "    DiabetesPedigreeFunction = st.text_input ('Input Nilai Diabetes Pedigree Function')\n",
    "with col2:\n",
    "    Age = st.text_input ('Input Nilai Age')\n"
   ]
  },
  {
   "cell_type": "code",
   "execution_count": 7,
   "metadata": {},
   "outputs": [],
   "source": [
    "#Code Prediksi\n",
    "diab_diagnosis = ''"
   ]
  },
  {
   "cell_type": "code",
   "execution_count": 11,
   "metadata": {},
   "outputs": [],
   "source": [
    "#Membuat tombol untuk prediksi\n",
    "if st.button('Test Prediksi Diabetes'):\n",
    "    diab_prediction = diabetes_model.predict([[Pregnancies, Glucose, BloodPressure, SkinThickness, Insulin, BMI, DiabetesPedigreeFunction, Age]])\n",
    "\n",
    "    if(diab_prediction[0]==1):\n",
    "        diab_diagnosis = 'Pasien Terkena Diabetes'\n",
    "    else:\n",
    "        diab_diagnosis = 'Pasien Tidak Terkena Diabetes'\n",
    "\n",
    "    st.success(diab_diagnosis)\n",
    "\n"
   ]
  }
 ],
 "metadata": {
  "kernelspec": {
   "display_name": "base",
   "language": "python",
   "name": "python3"
  },
  "language_info": {
   "codemirror_mode": {
    "name": "ipython",
    "version": 3
   },
   "file_extension": ".py",
   "mimetype": "text/x-python",
   "name": "python",
   "nbconvert_exporter": "python",
   "pygments_lexer": "ipython3",
   "version": "3.11.5"
  }
 },
 "nbformat": 4,
 "nbformat_minor": 2
}
